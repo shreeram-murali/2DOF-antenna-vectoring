{
 "cells": [
  {
   "cell_type": "markdown",
   "id": "57726351-5750-4c24-a4d6-c6cd64377933",
   "metadata": {},
   "source": [
    "# 2DOF Vectoring (Antenna Tracker)\n",
    "\n",
    "Reads the real-time GPS position of an autonomous vehicle and calculates pan and tilt angles for a 2-DOF antenna tracker placed at specified coordinates.\n",
    "\n",
    "This code was developed so that a unidirectional antenna placed on the antenna tracker would constantly point towards a moving UAV. However, no content of this repository actually pertains to an antenna -- this pan and tilt positioning setup can be used for any 2DOF vectoring application, such as filming, BVLOS indication, and so on. \n",
    "\n",
    "The program was tested in the Eastern Hemisphere (east of the UK) and the Northern Hemisphere (north of the Equator). Due to sign conventions, however, the program should work in all 4 possible combinations of east/west and north/south hemispheres of the globe. \n",
    "\n",
    "## Setup\n",
    "\n",
    "* Tested on a UAV running ArduPlane 3.8\n",
    "\n",
    "* MAVLink Communication protocol (`pymavlink`)\n",
    "\n",
    "* The coordinates are pushed either through a COM port or a router IP\n",
    "\n",
    "* Another subsystem consists of a WiFi/USB capable board and an IMU in order to convert these pan and tilt angles into PWM signals for 2 servos \n",
    "\n",
    "## Theory\n",
    "\n",
    "The program computes a pan and tilt (i.e. azimuth and elevation) based on two parameters:\n",
    "\n",
    "- **The home position**, which is the GPS position and altitude above mean sea level of the antenna tracker.\n",
    "\n",
    "- **The UAV position**, which this program reads (at 5Hz) from the MAVLink messages between the Ground Control Station and the UAV. \n",
    "\n",
    "The pan and tilt angles are derived using simple trigonometry involving distances of a right angle triangled subtended by the two positions. However, since the globe isn't cartesian, the distance between 2 points coordinates (latitude and longitude) is calculated using the [Haversine formula](https://en.wikipedia.org/wiki/Haversine_formula).\n",
    "\n",
    "$$\n",
    "d = 2R \\cdot \\text{atan2} \\left( \\dfrac{\\sqrt \\alpha}{\\sqrt{1 - \\alpha}} \\right)\n",
    "$$\n",
    "\n",
    "Where $R$ is the Radius of the Earth and $\\alpha$ is given by:\n",
    "\n",
    "$$\n",
    "\\alpha = \\sin ^2 (\\Delta x/2) + (\\cos(x_1) \\cdot \\cos(x_2)) + \\sin^2(\\Delta y/2)\n",
    "$$\n",
    "\n",
    "Where $(x_1, y_1)$ and $(x_2, y_2)$ are the two GPS coordinates and $\\Delta x = x_1 - x_2$ and $\\Delta y = y_1 - y_2$. These numbers are converted into radians for the math to be correct!\n",
    "\n",
    "## References\n",
    "\n",
    "Van Brummelen, Glen. Heavenly Mathematics: The Forgotten Art of Spherical Trigonometry. United Kingdom: Princeton University Press, 2013.\n"
   ]
  }
 ],
 "metadata": {
  "kernelspec": {
   "display_name": "Python 3 (ipykernel)",
   "language": "python",
   "name": "python3"
  },
  "language_info": {
   "codemirror_mode": {
    "name": "ipython",
    "version": 3
   },
   "file_extension": ".py",
   "mimetype": "text/x-python",
   "name": "python",
   "nbconvert_exporter": "python",
   "pygments_lexer": "ipython3",
   "version": "3.10.1"
  }
 },
 "nbformat": 4,
 "nbformat_minor": 5
}
